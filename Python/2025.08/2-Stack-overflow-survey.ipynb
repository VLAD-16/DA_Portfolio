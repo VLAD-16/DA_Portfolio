{
 "cells": [
  {
   "cell_type": "markdown",
   "id": "6349d259",
   "metadata": {},
   "source": [
    "Дослідження опитування користувачів Stackoverflow за 2025 рік"
   ]
  },
  {
   "cell_type": "code",
   "execution_count": 1,
   "id": "0b4e60df",
   "metadata": {},
   "outputs": [],
   "source": [
    "import pandas as pd\n",
    "import numpy as np\n",
    "import math\n",
    "import os"
   ]
  },
  {
   "cell_type": "markdown",
   "id": "144648de",
   "metadata": {},
   "source": [
    "Change working directory to notebook location"
   ]
  },
  {
   "cell_type": "code",
   "execution_count": 3,
   "id": "693ebcfe",
   "metadata": {},
   "outputs": [],
   "source": [
    "# Change working directory to notebook location\n",
    "os.chdir(r'd:\\VLAD\\WORK\\Studying\\GoIT\\2025\\DataAnalyst#27\\Course\\Module 4 - Python\\Lesson_4-WorkWitnData&Aggregation')\n",
    "# Show your current working directory\n",
    "# print(os.getcwd()) "
   ]
  },
  {
   "cell_type": "markdown",
   "id": "6618c01d",
   "metadata": {},
   "source": [
    "Open the csv files"
   ]
  },
  {
   "cell_type": "code",
   "execution_count": 4,
   "id": "7ee8daa0",
   "metadata": {},
   "outputs": [],
   "source": [
    "# open the csv files\n",
    "df_stackoverflow25 = pd.read_csv('survey_results_public.csv', low_memory=False)\n",
    "df_so25_schema = pd.read_csv('survey_results_schema.csv', low_memory=False)"
   ]
  },
  {
   "cell_type": "markdown",
   "id": "8b220322",
   "metadata": {},
   "source": [
    "Show useful information about dataset"
   ]
  },
  {
   "cell_type": "code",
   "execution_count": 5,
   "id": "7c379c55",
   "metadata": {},
   "outputs": [
    {
     "data": {
      "text/html": [
       "<div>\n",
       "<style scoped>\n",
       "    .dataframe tbody tr th:only-of-type {\n",
       "        vertical-align: middle;\n",
       "    }\n",
       "\n",
       "    .dataframe tbody tr th {\n",
       "        vertical-align: top;\n",
       "    }\n",
       "\n",
       "    .dataframe thead th {\n",
       "        text-align: right;\n",
       "    }\n",
       "</style>\n",
       "<table border=\"1\" class=\"dataframe\">\n",
       "  <thead>\n",
       "    <tr style=\"text-align: right;\">\n",
       "      <th></th>\n",
       "      <th>ResponseId</th>\n",
       "      <th>MainBranch</th>\n",
       "      <th>Age</th>\n",
       "      <th>EdLevel</th>\n",
       "      <th>Employment</th>\n",
       "      <th>EmploymentAddl</th>\n",
       "      <th>WorkExp</th>\n",
       "      <th>LearnCodeChoose</th>\n",
       "      <th>LearnCode</th>\n",
       "      <th>LearnCodeAI</th>\n",
       "      <th>...</th>\n",
       "      <th>AIAgentOrchestration</th>\n",
       "      <th>AIAgentOrchWrite</th>\n",
       "      <th>AIAgentObserveSecure</th>\n",
       "      <th>AIAgentObsWrite</th>\n",
       "      <th>AIAgentExternal</th>\n",
       "      <th>AIAgentExtWrite</th>\n",
       "      <th>AIHuman</th>\n",
       "      <th>AIOpen</th>\n",
       "      <th>ConvertedCompYearly</th>\n",
       "      <th>JobSat</th>\n",
       "    </tr>\n",
       "  </thead>\n",
       "  <tbody>\n",
       "    <tr>\n",
       "      <th>18484</th>\n",
       "      <td>18485</td>\n",
       "      <td>I am a developer by profession</td>\n",
       "      <td>45-54 years old</td>\n",
       "      <td>Bachelor’s degree (B.A., B.S., B.Eng., etc.)</td>\n",
       "      <td>Employed</td>\n",
       "      <td>Caring for dependents (children, elderly, etc....</td>\n",
       "      <td>39.0</td>\n",
       "      <td>Yes, I am not new to coding but am learning ne...</td>\n",
       "      <td>Online Courses or Certification (includes all ...</td>\n",
       "      <td>Yes, I learned how to use AI-enabled tools req...</td>\n",
       "      <td>...</td>\n",
       "      <td>NaN</td>\n",
       "      <td>NaN</td>\n",
       "      <td>NaN</td>\n",
       "      <td>NaN</td>\n",
       "      <td>NaN</td>\n",
       "      <td>NaN</td>\n",
       "      <td>When I don’t trust AI’s answers;When I want to...</td>\n",
       "      <td>I not sure about that. I think this industry w...</td>\n",
       "      <td>48146.0</td>\n",
       "      <td>5.0</td>\n",
       "    </tr>\n",
       "    <tr>\n",
       "      <th>33171</th>\n",
       "      <td>33172</td>\n",
       "      <td>I am learning to code</td>\n",
       "      <td>18-24 years old</td>\n",
       "      <td>Some college/university study without earning ...</td>\n",
       "      <td>Independent contractor, freelancer, or self-em...</td>\n",
       "      <td>None of the above</td>\n",
       "      <td>NaN</td>\n",
       "      <td>Yes, I am not new to coding but am learning ne...</td>\n",
       "      <td>Online Courses or Certification (includes all ...</td>\n",
       "      <td>NaN</td>\n",
       "      <td>...</td>\n",
       "      <td>NaN</td>\n",
       "      <td>NaN</td>\n",
       "      <td>NaN</td>\n",
       "      <td>NaN</td>\n",
       "      <td>NaN</td>\n",
       "      <td>NaN</td>\n",
       "      <td>NaN</td>\n",
       "      <td>NaN</td>\n",
       "      <td>NaN</td>\n",
       "      <td>NaN</td>\n",
       "    </tr>\n",
       "    <tr>\n",
       "      <th>30476</th>\n",
       "      <td>30477</td>\n",
       "      <td>I am learning to code</td>\n",
       "      <td>25-34 years old</td>\n",
       "      <td>Bachelor’s degree (B.A., B.S., B.Eng., etc.)</td>\n",
       "      <td>Not employed</td>\n",
       "      <td>None of the above;Transitioning to retirement ...</td>\n",
       "      <td>4.0</td>\n",
       "      <td>No, I am not new to coding and did not learn n...</td>\n",
       "      <td>NaN</td>\n",
       "      <td>No, I didn't spend time learning in the past year</td>\n",
       "      <td>...</td>\n",
       "      <td>NaN</td>\n",
       "      <td>NaN</td>\n",
       "      <td>NaN</td>\n",
       "      <td>NaN</td>\n",
       "      <td>NaN</td>\n",
       "      <td>NaN</td>\n",
       "      <td>NaN</td>\n",
       "      <td>NaN</td>\n",
       "      <td>NaN</td>\n",
       "      <td>NaN</td>\n",
       "    </tr>\n",
       "    <tr>\n",
       "      <th>2061</th>\n",
       "      <td>2062</td>\n",
       "      <td>I am a developer by profession</td>\n",
       "      <td>25-34 years old</td>\n",
       "      <td>Master’s degree (M.A., M.S., M.Eng., MBA, etc.)</td>\n",
       "      <td>Employed</td>\n",
       "      <td>None of the above</td>\n",
       "      <td>8.0</td>\n",
       "      <td>No, I am not new to coding and did not learn n...</td>\n",
       "      <td>NaN</td>\n",
       "      <td>No, I didn't spend time learning in the past year</td>\n",
       "      <td>...</td>\n",
       "      <td>NaN</td>\n",
       "      <td>NaN</td>\n",
       "      <td>NaN</td>\n",
       "      <td>NaN</td>\n",
       "      <td>NaN</td>\n",
       "      <td>NaN</td>\n",
       "      <td>When I don’t trust AI’s answers;When I want to...</td>\n",
       "      <td>All of the same as currently.</td>\n",
       "      <td>57179.0</td>\n",
       "      <td>5.0</td>\n",
       "    </tr>\n",
       "    <tr>\n",
       "      <th>7950</th>\n",
       "      <td>7951</td>\n",
       "      <td>I am a developer by profession</td>\n",
       "      <td>45-54 years old</td>\n",
       "      <td>Master’s degree (M.A., M.S., M.Eng., MBA, etc.)</td>\n",
       "      <td>Not employed</td>\n",
       "      <td>None of the above</td>\n",
       "      <td>25.0</td>\n",
       "      <td>Yes, I am not new to coding but am learning ne...</td>\n",
       "      <td>Other online resources (e.g. standard search, ...</td>\n",
       "      <td>Yes, I learned how to use AI-enabled tools req...</td>\n",
       "      <td>...</td>\n",
       "      <td>NaN</td>\n",
       "      <td>NaN</td>\n",
       "      <td>NaN</td>\n",
       "      <td>NaN</td>\n",
       "      <td>NaN</td>\n",
       "      <td>NaN</td>\n",
       "      <td>When I want to learn best practices;When I hav...</td>\n",
       "      <td>Planning and scoping the goals and features of...</td>\n",
       "      <td>130000.0</td>\n",
       "      <td>8.0</td>\n",
       "    </tr>\n",
       "  </tbody>\n",
       "</table>\n",
       "<p>5 rows × 170 columns</p>\n",
       "</div>"
      ],
      "text/plain": [
       "       ResponseId                      MainBranch              Age  \\\n",
       "18484       18485  I am a developer by profession  45-54 years old   \n",
       "33171       33172           I am learning to code  18-24 years old   \n",
       "30476       30477           I am learning to code  25-34 years old   \n",
       "2061         2062  I am a developer by profession  25-34 years old   \n",
       "7950         7951  I am a developer by profession  45-54 years old   \n",
       "\n",
       "                                                 EdLevel  \\\n",
       "18484       Bachelor’s degree (B.A., B.S., B.Eng., etc.)   \n",
       "33171  Some college/university study without earning ...   \n",
       "30476       Bachelor’s degree (B.A., B.S., B.Eng., etc.)   \n",
       "2061     Master’s degree (M.A., M.S., M.Eng., MBA, etc.)   \n",
       "7950     Master’s degree (M.A., M.S., M.Eng., MBA, etc.)   \n",
       "\n",
       "                                              Employment  \\\n",
       "18484                                           Employed   \n",
       "33171  Independent contractor, freelancer, or self-em...   \n",
       "30476                                       Not employed   \n",
       "2061                                            Employed   \n",
       "7950                                        Not employed   \n",
       "\n",
       "                                          EmploymentAddl  WorkExp  \\\n",
       "18484  Caring for dependents (children, elderly, etc....     39.0   \n",
       "33171                                  None of the above      NaN   \n",
       "30476  None of the above;Transitioning to retirement ...      4.0   \n",
       "2061                                   None of the above      8.0   \n",
       "7950                                   None of the above     25.0   \n",
       "\n",
       "                                         LearnCodeChoose  \\\n",
       "18484  Yes, I am not new to coding but am learning ne...   \n",
       "33171  Yes, I am not new to coding but am learning ne...   \n",
       "30476  No, I am not new to coding and did not learn n...   \n",
       "2061   No, I am not new to coding and did not learn n...   \n",
       "7950   Yes, I am not new to coding but am learning ne...   \n",
       "\n",
       "                                               LearnCode  \\\n",
       "18484  Online Courses or Certification (includes all ...   \n",
       "33171  Online Courses or Certification (includes all ...   \n",
       "30476                                                NaN   \n",
       "2061                                                 NaN   \n",
       "7950   Other online resources (e.g. standard search, ...   \n",
       "\n",
       "                                             LearnCodeAI  ...  \\\n",
       "18484  Yes, I learned how to use AI-enabled tools req...  ...   \n",
       "33171                                                NaN  ...   \n",
       "30476  No, I didn't spend time learning in the past year  ...   \n",
       "2061   No, I didn't spend time learning in the past year  ...   \n",
       "7950   Yes, I learned how to use AI-enabled tools req...  ...   \n",
       "\n",
       "      AIAgentOrchestration  AIAgentOrchWrite AIAgentObserveSecure  \\\n",
       "18484                  NaN               NaN                  NaN   \n",
       "33171                  NaN               NaN                  NaN   \n",
       "30476                  NaN               NaN                  NaN   \n",
       "2061                   NaN               NaN                  NaN   \n",
       "7950                   NaN               NaN                  NaN   \n",
       "\n",
       "      AIAgentObsWrite AIAgentExternal AIAgentExtWrite  \\\n",
       "18484             NaN             NaN             NaN   \n",
       "33171             NaN             NaN             NaN   \n",
       "30476             NaN             NaN             NaN   \n",
       "2061              NaN             NaN             NaN   \n",
       "7950              NaN             NaN             NaN   \n",
       "\n",
       "                                                 AIHuman  \\\n",
       "18484  When I don’t trust AI’s answers;When I want to...   \n",
       "33171                                                NaN   \n",
       "30476                                                NaN   \n",
       "2061   When I don’t trust AI’s answers;When I want to...   \n",
       "7950   When I want to learn best practices;When I hav...   \n",
       "\n",
       "                                                  AIOpen  ConvertedCompYearly  \\\n",
       "18484  I not sure about that. I think this industry w...              48146.0   \n",
       "33171                                                NaN                  NaN   \n",
       "30476                                                NaN                  NaN   \n",
       "2061                       All of the same as currently.              57179.0   \n",
       "7950   Planning and scoping the goals and features of...             130000.0   \n",
       "\n",
       "       JobSat  \n",
       "18484     5.0  \n",
       "33171     NaN  \n",
       "30476     NaN  \n",
       "2061      5.0  \n",
       "7950      8.0  \n",
       "\n",
       "[5 rows x 170 columns]"
      ]
     },
     "execution_count": 5,
     "metadata": {},
     "output_type": "execute_result"
    }
   ],
   "source": [
    "# Display the first 5 rows of the dataframes to verify they are loaded correctly\n",
    "df_stackoverflow25.sample(5)\n",
    "# Get information about the dataframes\n",
    "#df_stackoverflow25.info()\n",
    "# Show useful information about cshema dataset\n",
    "#df_so25_schema.describe"
   ]
  },
  {
   "cell_type": "markdown",
   "id": "55c81d24",
   "metadata": {},
   "source": [
    "TASK 1  Скільки респондентів пройшли опитування?"
   ]
  },
  {
   "cell_type": "code",
   "execution_count": 6,
   "id": "c04e4a7d",
   "metadata": {},
   "outputs": [
    {
     "name": "stdout",
     "output_type": "stream",
     "text": [
      "Number of unique respondents: 49123\n",
      "Total number of responses: 49123\n"
     ]
    }
   ],
   "source": [
    "# First, let's see what columns are available\n",
    "#print(df_stackoverflow25.columns.tolist())\n",
    "\n",
    "# Count unique respondents using ResponseId - 2 methods\n",
    "#1 method: \n",
    "# unique_respondents = df_stackoverflow25['ResponseId'].nunique()\n",
    "#2 method:\n",
    "unique_respondents = df_stackoverflow25.ResponseId.nunique()\n",
    "print(f\"Number of unique respondents: {unique_respondents}\")\n",
    "\n",
    "# Optional: Compare with total number of responses\n",
    "total_responses = len(df_stackoverflow25)\n",
    "print(f\"Total number of responses: {total_responses}\")"
   ]
  },
  {
   "cell_type": "markdown",
   "id": "a5297547",
   "metadata": {},
   "source": [
    "TASK 2. Скільки респондентів відповіли на всі запитання?"
   ]
  },
  {
   "cell_type": "code",
   "execution_count": 7,
   "id": "6fa544ff",
   "metadata": {},
   "outputs": [
    {
     "name": "stdout",
     "output_type": "stream",
     "text": [
      "Number of questions in survey data: 170\n",
      "Number of questions in schema data: 139\n",
      "Number of questions, present in both survey and schema dataframes: 124\n",
      "\n",
      "Questions present in both dataframes: {'TechEndorse_13', 'TechOppose_15', 'AIComplex', 'PlatformChoice', 'TechEndorse_9', 'AIAgentObsWrite', 'MainBranch', 'JobSatPoints_4', 'TechOppose_2', 'TechOppose_5', 'AIFrustration', 'DatabaseHaveEntry', 'SO_Actions_9', 'SO_Actions_4', 'TechEndorse_6', 'SO_Actions_10', 'Age', 'WorkExp', 'PurchaseInfluence', 'LanguagesHaveEntry', 'SOTagsWant Entry', 'TechEndorse_8', 'JobSatPoints_9', 'EmploymentAddl', 'TechEndorse_5', 'TechOppose_1', 'JobSatPoints_13', 'JobSatPoints_10', 'YearsCode', 'WebframeHaveEntry', 'AIAgent_Uses', 'TechEndorse_1', 'Industry', 'SODuration', 'TechOppose_15_TEXT', 'SO_Actions_1', 'JobSat', 'ToolCountPersonal', 'Employment', 'SOVisitFreq', 'OrgSize', 'JobSatPoints_7', 'CompTotal', 'TechEndorseIntro', 'AIAgentKnowledge', 'SO_Actions_16', 'AIAgentChange', 'AIAgentObserveSecure', 'CommPlatformHaveEntr', 'NewRole', 'TechOppose_7', 'JobSatPoints_16', 'AISelect', 'AIModelsWantEntry', 'AIAcc', 'SOFriction', 'AIAgents', 'AIHuman', 'JobSatPoints_15', 'TechEndorse_7', 'SOPartFreq', 'SO_Actions_15_TEXT', 'Currency', 'TechOppose_13', 'JobSatPoints_8', 'SOComm', 'JobSatPoints_6', 'AIAgentKnowWrite', 'CommPlatformWantEntr', 'AIModelsChoice', 'LearnCode', 'OfficeStackHaveEntry', 'TechOppose_3', 'LanguagesWantEntry', 'AIOpen', 'TechEndorse_3', 'AIAgentOrchestration', 'SO_Actions_3', 'RemoteWork', 'AIAgentExtWrite', 'DevEnvHaveEntry', 'SO_Actions_7', 'WebframeChoice', 'AgentUsesGeneral', 'LearnCodeAI', 'LearnCodeChoose', 'JobSatPoints_15_TEXT', 'LanguageChoice', 'SO_Actions_6', 'TechEndorse_13_TEXT', 'DevType', 'ToolCountWork', 'TechOppose_16', 'AIThreat', 'DevEnvWantEntry', 'AIAgentExternal', 'AIModelsHaveEntry', 'TechEndorse_4', 'SO_Dev_Content', 'JobSatPoints_14', 'SOTagsHaveEntry', 'AISent', 'DevEnvsChoice', 'TechOppose_11', 'TechEndorse_2', 'EdLevel', 'JobSatPoints_11', 'ICorPM', 'AIExplain', 'PlatformWantEntry', 'JobSatPoints_5', 'WebframeWantEntry', 'SO_Actions_5', 'AILearnHow', 'TechOppose_9', 'JobSatPoints_1', 'PlatformHaveEntry', 'Country', 'OfficeStackWantEntry', 'DatabaseWantEntry', 'AIAgentOrchWrite', 'DatabaseChoice', 'SOAccount', 'SO_Actions_15'}\n",
      "\n",
      "Respondents who answered all questions: 0\n",
      "\n",
      "Respondents who answered at least 80 % of questions: 911\n"
     ]
    }
   ],
   "source": [
    "# Get question names from both dataframes\n",
    "questions_from_survey = df_stackoverflow25.columns\n",
    "questions_from_schema = df_so25_schema.qname\n",
    "print(f\"Number of questions in survey data: {len(questions_from_survey)}\")\n",
    "print(f\"Number of questions in schema data: {len(questions_from_schema)}\")\n",
    "# Check for missing values in the dataframe\n",
    "df_stackoverflow25.isna()\n",
    "\n",
    "# Find intersection of question names present in both dataframes\n",
    "set_all_questions = set(questions_from_survey) & set(questions_from_schema)\n",
    "print(f\"Number of questions, present in both survey and schema dataframes: {len(set_all_questions)}\")\n",
    "print(f\"\\nQuestions present in both dataframes: {set_all_questions}\")\n",
    "\n",
    "# Count respondents who have no missing values (NaN) across all questions\n",
    "cnt_all_responses = df_stackoverflow25.dropna(subset=set_all_questions).shape[0]\n",
    "print(f\"\\nRespondents who answered all questions: {cnt_all_responses}\")\n",
    "\n",
    "# Count respondents who answered at least 80% of questions\n",
    "threshold = 0.8\n",
    "questions_with_threshold = int(len(set_all_questions) * threshold)\n",
    "responses_above_threshold = df_stackoverflow25[list(set_all_questions)].dropna(thresh=questions_with_threshold).shape[0]\n",
    "print(f\"\\nRespondents who answered at least {int(threshold*100)} % of questions: {responses_above_threshold}\")"
   ]
  },
  {
   "cell_type": "markdown",
   "id": "de02b83b",
   "metadata": {},
   "source": [
    "TASK 3. Міри центральної тенденції для WorkExp"
   ]
  },
  {
   "cell_type": "code",
   "execution_count": 8,
   "id": "983c7dd5",
   "metadata": {},
   "outputs": [
    {
     "name": "stdout",
     "output_type": "stream",
     "text": [
      "Average value for WorkExp column: 13.37\n",
      "Median value for WorkExp column: 10.0\n",
      "Mode value for WorkExp column: 10.0\n"
     ]
    }
   ],
   "source": [
    "# Calculate average value for WorkExp column\n",
    "average_work_exp = df_stackoverflow25['WorkExp'].mean()\n",
    "print(f\"Average value for WorkExp column: {round(average_work_exp, 2)}\")\n",
    "\n",
    "# Calculate median value for WorkExp column\n",
    "median_work_exp = df_stackoverflow25['WorkExp'].median()\n",
    "print(f\"Median value for WorkExp column: {round(median_work_exp, 2)}\")\n",
    "\n",
    "# Calculate mode value for WorkExp column\n",
    "mode_work_exp = df_stackoverflow25['WorkExp'].mode()[0]  # mode() returns a Series, take the first value\n",
    "print(f\"Mode value for WorkExp column: {mode_work_exp}\")"
   ]
  },
  {
   "cell_type": "markdown",
   "id": "2ab26d3f",
   "metadata": {},
   "source": [
    "TASK 4. Скільки респондентів працює віддалено?"
   ]
  },
  {
   "cell_type": "code",
   "execution_count": 9,
   "id": "e0d00c7e",
   "metadata": {},
   "outputs": [
    {
     "name": "stdout",
     "output_type": "stream",
     "text": [
      "Number of respondents who work remotely: 10924\n",
      "Percentage of remote workers: 22.24%\n"
     ]
    }
   ],
   "source": [
    "# Calculate, how many respondents work remotely\n",
    "\n",
    "#1 method:\n",
    "remote_count = df_stackoverflow25[df_stackoverflow25.RemoteWork=='Remote'].shape[0]\n",
    "\n",
    "#2 method:\n",
    "# Create a mask for rows where RemoteWork contains \"Remote\" (case-insensitive)\n",
    "#remote_mask = df_stackoverflow25['RemoteWork'].str.contains('Remote', case=False, na=False)\n",
    "# Count number of respondents who work remotely\n",
    "#remote_count = remote_mask.sum()\n",
    "\n",
    "# Calculate percentage of remote workers\n",
    "remote_percent = remote_count / len(df_stackoverflow25) * 100\n",
    "\n",
    "print(f\"Number of respondents who work remotely: {remote_count}\")\n",
    "print(f\"Percentage of remote workers: {remote_percent:.2f}%\")"
   ]
  },
  {
   "cell_type": "markdown",
   "id": "426ae609",
   "metadata": {},
   "source": [
    "TASK 5. Який відсоток респондентів програмує на Python?"
   ]
  },
  {
   "cell_type": "code",
   "execution_count": 10,
   "id": "1d714ff5",
   "metadata": {},
   "outputs": [
    {
     "name": "stdout",
     "output_type": "stream",
     "text": [
      "Total respondents: 49123\n",
      "Respondents who program in Python: 18444\n",
      "Percentage of respondents who program in Python: 37.55%\n"
     ]
    }
   ],
   "source": [
    "# Total number of respondents\n",
    "total_respondents = len(df_stackoverflow25)\n",
    "\n",
    "# Number of respondents who program in Python\n",
    "python_users = df_stackoverflow25[\"LanguageHaveWorkedWith\"].str.contains(\"Python\", na=False).sum()\n",
    "\n",
    "# Percentage of respondents who program in Python\n",
    "percent_python = python_users / total_respondents * 100\n",
    "\n",
    "print(f\"Total respondents: {total_respondents}\")\n",
    "print(f\"Respondents who program in Python: {python_users}\")\n",
    "print(f\"Percentage of respondents who program in Python: {percent_python:.2f}%\")"
   ]
  },
  {
   "cell_type": "markdown",
   "id": "e65b3823",
   "metadata": {},
   "source": [
    "TASK 6. Скільки навчалося програмуванню за допомогою онлайн-курсів?"
   ]
  },
  {
   "cell_type": "code",
   "execution_count": 11,
   "id": "b3c7d58e",
   "metadata": {},
   "outputs": [
    {
     "name": "stdout",
     "output_type": "stream",
     "text": [
      "Number of respondents who learned programming using online courses: 10957\n",
      "Percentage of respondents who learned programming using online courses: 22.31%\n"
     ]
    }
   ],
   "source": [
    "# Total number of respondents\n",
    "total_respondents = len(df_stackoverflow25)\n",
    "\n",
    "# Number of respondents who learned programming using online courses\n",
    "online_learners = df_stackoverflow25[\"LearnCode\"].str.contains(\"Online Course\", na=False).sum()\n",
    "\n",
    "# Percentage of respondents who learned programming using online courses\n",
    "percent_online_learners = online_learners / total_respondents * 100\n",
    "\n",
    "print(f\"Number of respondents who learned programming using online courses: {online_learners}\")\n",
    "print(f\"Percentage of respondents who learned programming using online courses: {percent_online_learners:.2f}%\")"
   ]
  },
  {
   "cell_type": "markdown",
   "id": "f9338eee",
   "metadata": {},
   "source": [
    "TASK 7. Серед респондентів, що програмують на Python, середня та медіана компенсації по країнах\n"
   ]
  },
  {
   "cell_type": "code",
   "execution_count": 12,
   "id": "ada52aaf",
   "metadata": {},
   "outputs": [
    {
     "name": "stdout",
     "output_type": "stream",
     "text": [
      "                                           mean    median\n",
      "Country                                                  \n",
      "Afghanistan                            22328.67    1000.0\n",
      "Albania                                47217.60   50000.0\n",
      "Algeria                                20187.29    7088.0\n",
      "Andorra                               226103.50  226103.5\n",
      "Angola                                      NaN       NaN\n",
      "...                                         ...       ...\n",
      "Venezuela, Bolivarian Republic of...    9908.65    3000.0\n",
      "Viet Nam                              218837.17    8254.0\n",
      "Yemen                                  32929.50   23672.0\n",
      "Zambia                                  5424.25    3206.0\n",
      "Zimbabwe                               34000.00   25500.0\n",
      "\n",
      "[167 rows x 2 columns]\n"
     ]
    }
   ],
   "source": [
    "# Filter respondents who program in Python\n",
    "python_users = df_stackoverflow25[df_stackoverflow25[\"LanguageHaveWorkedWith\"].str.contains(\"Python\", na=False)]\n",
    "\n",
    "# Group by Country and calculate mean and median compensation, rounded to 2 decimal places\n",
    "comp_stats = python_users.groupby(\"Country\")[\"ConvertedCompYearly\"].agg(['mean', 'median']).round(2)\n",
    "\n",
    "print(comp_stats)"
   ]
  },
  {
   "cell_type": "markdown",
   "id": "99419f3a",
   "metadata": {},
   "source": [
    "TASK 8. Освіта 5 респондентів з найбільшою компенсацією"
   ]
  },
  {
   "cell_type": "code",
   "execution_count": 13,
   "id": "a29fea4f",
   "metadata": {},
   "outputs": [
    {
     "name": "stdout",
     "output_type": "stream",
     "text": [
      "                                               EdLevel  ConvertedCompYearly\n",
      "34267              Associate degree (A.A., A.S., etc.)           50000000.0\n",
      "28700  Master’s degree (M.A., M.S., M.Eng., MBA, etc.)           33552715.0\n",
      "43143              Associate degree (A.A., A.S., etc.)           18387548.0\n",
      "35353     Bachelor’s degree (B.A., B.S., B.Eng., etc.)           15430267.0\n",
      "45971  Master’s degree (M.A., M.S., M.Eng., MBA, etc.)           13921760.0\n"
     ]
    }
   ],
   "source": [
    "# Sort by compensation, take top 5, and show their education level\n",
    "top5_education = df_stackoverflow25.sort_values(\"ConvertedCompYearly\", ascending=False).head(5)[[\"EdLevel\", \"ConvertedCompYearly\"]]\n",
    "print(top5_education)"
   ]
  },
  {
   "cell_type": "markdown",
   "id": "501e849b",
   "metadata": {},
   "source": [
    "Bonus TASK 1. Відсоток Python-програмістів по вікових категоріях"
   ]
  },
  {
   "cell_type": "code",
   "execution_count": 14,
   "id": "945e4e29",
   "metadata": {},
   "outputs": [
    {
     "name": "stdout",
     "output_type": "stream",
     "text": [
      "Percentage of Python programmers by age:\n",
      "18-24 years old   :    40.03%\n",
      "25-34 years old   :    36.94%\n",
      "35-44 years old   :    36.71%\n",
      "45-54 years old   :    38.66%\n",
      "55-64 years old   :    37.24%\n",
      "65 years or older :    31.63%\n",
      "Prefer not to say :    31.22%\n"
     ]
    }
   ],
   "source": [
    "# Calculate percentage of Python programmers by age categories\n",
    "\n",
    "# Total respondents by age\n",
    "total_by_age = df_stackoverflow25.groupby(\"Age\").size()\n",
    "\n",
    "# Python users by age\n",
    "python_by_age = df_stackoverflow25[df_stackoverflow25[\"LanguageHaveWorkedWith\"].str.contains(\"Python\", na=False)].groupby(\"Age\").size()\n",
    "\n",
    "# Percentage by age\n",
    "percent_python_by_age = (python_by_age / total_by_age * 100).round(2)\n",
    "# print as Series object\n",
    "#print(percent_python_by_age)\n",
    "\n",
    "print(\"Percentage of Python programmers by age:\")\n",
    "for age, percent in percent_python_by_age.items():\n",
    "    print(f\"{age:<18}: {percent:>8}%\")\n"
   ]
  },
  {
   "cell_type": "markdown",
   "id": "1e88ee52",
   "metadata": {},
   "source": [
    "Bonus TASK 2. Респонденти в 75 перцентилі по компенсації, що працюють віддалено"
   ]
  },
  {
   "cell_type": "code",
   "execution_count": 15,
   "id": "7c0807ac",
   "metadata": {},
   "outputs": [
    {
     "name": "stdout",
     "output_type": "stream",
     "text": [
      "                           Industry  ConvertedCompYearly  \\\n",
      "27       Banking/Financial Services             209643.0   \n",
      "29             Software Development             205000.0   \n",
      "31                          Fintech             250000.0   \n",
      "33             Software Development             175000.0   \n",
      "39     Media & Advertising Services             150000.0   \n",
      "...                             ...                  ...   \n",
      "48928          Software Development             462881.0   \n",
      "48930                        Other:             165000.0   \n",
      "48934          Software Development             800000.0   \n",
      "48937  Retail and Consumer Services             124738.0   \n",
      "48970                    Healthcare             350000.0   \n",
      "\n",
      "                                           RemoteWork  \n",
      "27     Hybrid (some remote, leans heavy to in-person)  \n",
      "29                                             Remote  \n",
      "31                                             Remote  \n",
      "33     Hybrid (some remote, leans heavy to in-person)  \n",
      "39     Hybrid (some remote, leans heavy to in-person)  \n",
      "...                                               ...  \n",
      "48928  Hybrid (some remote, leans heavy to in-person)  \n",
      "48930  Hybrid (some remote, leans heavy to in-person)  \n",
      "48934  Hybrid (some remote, leans heavy to in-person)  \n",
      "48937                                          Remote  \n",
      "48970                                          Remote  \n",
      "\n",
      "[3362 rows x 3 columns]\n"
     ]
    }
   ],
   "source": [
    "# Find the 75th percentile of yearly compensation\n",
    "comp_75 = df_stackoverflow25[\"ConvertedCompYearly\"].quantile(0.75)\n",
    "\n",
    "# Filter respondents above 75th percentile and working remotely\n",
    "remote_top75 = df_stackoverflow25[\n",
    "    (df_stackoverflow25[\"ConvertedCompYearly\"] > comp_75) &\n",
    "    (df_stackoverflow25[\"RemoteWork\"].str.contains(\"Remote\", case=False, na=False))\n",
    "]\n",
    "\n",
    "# Show their Industry\n",
    "print(remote_top75[[\"Industry\", \"ConvertedCompYearly\", \"RemoteWork\"]])"
   ]
  }
 ],
 "metadata": {
  "kernelspec": {
   "display_name": "Python 3",
   "language": "python",
   "name": "python3"
  },
  "language_info": {
   "codemirror_mode": {
    "name": "ipython",
    "version": 3
   },
   "file_extension": ".py",
   "mimetype": "text/x-python",
   "name": "python",
   "nbconvert_exporter": "python",
   "pygments_lexer": "ipython3",
   "version": "3.11.9"
  }
 },
 "nbformat": 4,
 "nbformat_minor": 5
}
