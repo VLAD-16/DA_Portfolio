{
 "cells": [
  {
   "cell_type": "code",
   "execution_count": 2,
   "id": "68502f64",
   "metadata": {},
   "outputs": [],
   "source": [
    "import pandas as pd"
   ]
  },
  {
   "cell_type": "markdown",
   "id": "d8e71da6",
   "metadata": {},
   "source": [
    "Отримуємо базову інформацію про типи даних, кількість рядків, наявність пропусків."
   ]
  },
  {
   "cell_type": "code",
   "execution_count": 91,
   "id": "786c9612",
   "metadata": {},
   "outputs": [
    {
     "name": "stdout",
     "output_type": "stream",
     "text": [
      "<class 'pandas.core.frame.DataFrame'>\n",
      "RangeIndex: 50000 entries, 0 to 49999\n",
      "Data columns (total 25 columns):\n",
      " #   Column                Non-Null Count  Dtype  \n",
      "---  ------                --------------  -----  \n",
      " 0   review_id             50000 non-null  int64  \n",
      " 1   customer_name         50000 non-null  object \n",
      " 2   age                   50000 non-null  int64  \n",
      " 3   brand                 50000 non-null  object \n",
      " 4   model                 50000 non-null  object \n",
      " 5   price_usd             50000 non-null  float64\n",
      " 6   price_local           50000 non-null  object \n",
      " 7   currency              50000 non-null  object \n",
      " 8   exchange_rate_to_usd  50000 non-null  float64\n",
      " 9   rating                50000 non-null  int64  \n",
      " 10  review_text           50000 non-null  object \n",
      " 11  sentiment             50000 non-null  object \n",
      " 12  country               50000 non-null  object \n",
      " 13  language              50000 non-null  object \n",
      " 14  review_date           50000 non-null  object \n",
      " 15  verified_purchase     50000 non-null  bool   \n",
      " 16  battery_life_rating   50000 non-null  int64  \n",
      " 17  camera_rating         50000 non-null  int64  \n",
      " 18  performance_rating    50000 non-null  int64  \n",
      " 19  design_rating         50000 non-null  int64  \n",
      " 20  display_rating        50000 non-null  int64  \n",
      " 21  review_length         50000 non-null  int64  \n",
      " 22  word_count            50000 non-null  int64  \n",
      " 23  helpful_votes         50000 non-null  int64  \n",
      " 24  source                50000 non-null  object \n",
      "dtypes: bool(1), float64(2), int64(11), object(11)\n",
      "memory usage: 9.2+ MB\n",
      "None\n"
     ]
    }
   ],
   "source": [
    "\n",
    "# Завантажуємо датасет\n",
    "file_path = r\"D:\\VLAD\\WORK\\Projects\\Portfolio\\DA_Portfolio\\DA\\2025\\global_mobile_reviews_project\\data\\raw\\data\\Mobile Reviews Sentiment.csv\"\n",
    "try:\n",
    "    df = pd.read_csv(file_path, encoding='utf-8')\n",
    "\n",
    "    # Перевіряємо загальні відомості про дані\n",
    "    print(df.info())\n",
    "\n",
    "except FileNotFoundError:\n",
    "    print(f\"Error: File not found at {file_path}.  Please check the file path.\")\n",
    "except Exception as e:\n",
    "    print(f\"An error occurred: {e}\")"
   ]
  },
  {
   "cell_type": "code",
   "execution_count": 92,
   "id": "1550327e",
   "metadata": {},
   "outputs": [
    {
     "name": "stdout",
     "output_type": "stream",
     "text": [
      "   review_id      customer_name  age     brand          model  price_usd  \\\n",
      "0          1      Aryan Maharaj   45    Realme  Realme 12 Pro     337.31   \n",
      "1          2  Davi Miguel Sousa   18    Realme  Realme 12 Pro     307.78   \n",
      "2          3        Pahal Balay   27    Google        Pixel 6     864.53   \n",
      "3          4       David Guzman   19    Xiaomi  Redmi Note 13     660.94   \n",
      "4          5          Yago Leão   38  Motorola        Edge 50     792.13   \n",
      "\n",
      "  price_local currency  exchange_rate_to_usd  rating  ... verified_purchase  \\\n",
      "0   ₹27996.73      INR                 83.00       2  ...              True   \n",
      "1   R$1754.35      BRL                  5.70       4  ...              True   \n",
      "2   ₹71755.99      INR                 83.00       4  ...              True   \n",
      "3  د.إ2425.65      AED                  3.67       3  ...             False   \n",
      "4   R$4515.14      BRL                  5.70       3  ...              True   \n",
      "\n",
      "  battery_life_rating camera_rating performance_rating design_rating  \\\n",
      "0                   1             1                  3             2   \n",
      "1                   3             2                  4             3   \n",
      "2                   3             5                  3             2   \n",
      "3                   1             3                  2             1   \n",
      "4                   3             3                  2             2   \n",
      "\n",
      "   display_rating  review_length  word_count  helpful_votes      source  \n",
      "0               1             46           7              1      Amazon  \n",
      "1               2             74          12              5    Flipkart  \n",
      "2               4             55          11              8  AliExpress  \n",
      "3               2             66          11              3      Amazon  \n",
      "4               1             73          12              0     BestBuy  \n",
      "\n",
      "[5 rows x 25 columns]\n"
     ]
    }
   ],
   "source": [
    "# Переглядаємо перші кілька рядків\n",
    "print(df.head())"
   ]
  },
  {
   "cell_type": "markdown",
   "id": "1bea4986",
   "metadata": {},
   "source": [
    "1. Перевірка пропущених значень\n",
    "\n",
    "Хоча виведення показує, що всі колонки мають 50,000 значень (немає пропущених), важливо двічі перевірити це для кожної колонки:"
   ]
  },
  {
   "cell_type": "code",
   "execution_count": 93,
   "id": "729a7e7a",
   "metadata": {},
   "outputs": [
    {
     "name": "stdout",
     "output_type": "stream",
     "text": [
      "review_id               0\n",
      "customer_name           0\n",
      "age                     0\n",
      "brand                   0\n",
      "model                   0\n",
      "price_usd               0\n",
      "price_local             0\n",
      "currency                0\n",
      "exchange_rate_to_usd    0\n",
      "rating                  0\n",
      "review_text             0\n",
      "sentiment               0\n",
      "country                 0\n",
      "language                0\n",
      "review_date             0\n",
      "verified_purchase       0\n",
      "battery_life_rating     0\n",
      "camera_rating           0\n",
      "performance_rating      0\n",
      "design_rating           0\n",
      "display_rating          0\n",
      "review_length           0\n",
      "word_count              0\n",
      "helpful_votes           0\n",
      "source                  0\n",
      "dtype: int64\n"
     ]
    }
   ],
   "source": [
    "# Перевірка наявності пропусків\n",
    "print(df.isnull().sum())"
   ]
  },
  {
   "cell_type": "markdown",
   "id": "f167038c",
   "metadata": {},
   "source": [
    "2. Перевірка унікальних значень для категоріальних змінних\n",
    "\n",
    "Перевіримо категоріальні стовпці на наявність аномальних або некоректних значень, наприклад, для колонок sentiment, country, currency, language, verified_purchase:"
   ]
  },
  {
   "cell_type": "code",
   "execution_count": 94,
   "id": "3537f0cb",
   "metadata": {},
   "outputs": [
    {
     "name": "stdout",
     "output_type": "stream",
     "text": [
      "['Negative' 'Positive' 'Neutral']\n",
      "['India' 'Brazil' 'UAE' 'Australia' 'Germany' 'UK' 'Canada' 'USA']\n",
      "['INR' 'BRL' 'AED' 'AUD' 'EUR' 'GBP' 'CAD' 'USD']\n",
      "['Hindi' 'Portuguese' 'English' 'German']\n",
      "[ True False]\n"
     ]
    }
   ],
   "source": [
    "# Перевірка унікальних значень для категоріальних стовпців\n",
    "print(df['sentiment'].unique())  # перевірка тональності\n",
    "print(df['country'].unique())    # перевірка країн\n",
    "print(df['currency'].unique())   # перевірка валют\n",
    "print(df['language'].unique())   # перевірка мов\n",
    "print(df['verified_purchase'].unique())  # перевірка підтверджених покупок"
   ]
  },
  {
   "cell_type": "markdown",
   "id": "be8e0506",
   "metadata": {},
   "source": [
    "3. Перевірка наявності аномальних значень у числових стовпцях\n",
    "\n",
    "Перевіримо числові колонки, щоб переконатися, що всі значення знаходяться в розумних межах:"
   ]
  },
  {
   "cell_type": "code",
   "execution_count": 95,
   "id": "b91bd3aa",
   "metadata": {},
   "outputs": [
    {
     "name": "stdout",
     "output_type": "stream",
     "text": [
      "count    50000.000000\n",
      "mean       689.693713\n",
      "std        310.307331\n",
      "min        180.020000\n",
      "25%        450.792500\n",
      "50%        637.040000\n",
      "75%        900.975000\n",
      "max       1499.890000\n",
      "Name: price_usd, dtype: float64\n",
      "count    50000.000000\n",
      "mean         3.123120\n",
      "std          1.248612\n",
      "min          1.000000\n",
      "25%          2.000000\n",
      "50%          3.000000\n",
      "75%          4.000000\n",
      "max          5.000000\n",
      "Name: rating, dtype: float64\n",
      "count    50000.00000\n",
      "mean         2.71800\n",
      "std          1.34827\n",
      "min          1.00000\n",
      "25%          1.00000\n",
      "50%          3.00000\n",
      "75%          4.00000\n",
      "max          5.00000\n",
      "Name: battery_life_rating, dtype: float64\n",
      "count    50000.000000\n",
      "mean         2.717640\n",
      "std          1.345001\n",
      "min          1.000000\n",
      "25%          1.000000\n",
      "50%          3.000000\n",
      "75%          4.000000\n",
      "max          5.000000\n",
      "Name: camera_rating, dtype: float64\n",
      "count    50000.000000\n",
      "mean         2.719620\n",
      "std          1.349208\n",
      "min          1.000000\n",
      "25%          1.000000\n",
      "50%          3.000000\n",
      "75%          4.000000\n",
      "max          5.000000\n",
      "Name: performance_rating, dtype: float64\n",
      "count    50000.000000\n",
      "mean         2.713960\n",
      "std          1.343346\n",
      "min          1.000000\n",
      "25%          1.000000\n",
      "50%          3.000000\n",
      "75%          4.000000\n",
      "max          5.000000\n",
      "Name: design_rating, dtype: float64\n"
     ]
    }
   ],
   "source": [
    "# Перевірка діапазону для числових значень\n",
    "print(df['price_usd'].describe())  # Ціна в USD\n",
    "print(df['rating'].describe())  # Оцінка\n",
    "print(df['battery_life_rating'].describe())  # Оцінка батареї\n",
    "print(df['camera_rating'].describe())  # Оцінка камери\n",
    "print(df['performance_rating'].describe())  # Оцінка продуктивності\n",
    "print(df['design_rating'].describe())  # Оцінка дизайну"
   ]
  },
  {
   "cell_type": "markdown",
   "id": "954687f4",
   "metadata": {},
   "source": [
    "Зробити копію датасету"
   ]
  },
  {
   "cell_type": "code",
   "execution_count": 96,
   "id": "2fb9f8df",
   "metadata": {},
   "outputs": [
    {
     "name": "stdout",
     "output_type": "stream",
     "text": [
      "   review_id      customer_name  age     brand          model  price_usd  \\\n",
      "0          1      Aryan Maharaj   45    Realme  Realme 12 Pro     337.31   \n",
      "1          2  Davi Miguel Sousa   18    Realme  Realme 12 Pro     307.78   \n",
      "2          3        Pahal Balay   27    Google        Pixel 6     864.53   \n",
      "3          4       David Guzman   19    Xiaomi  Redmi Note 13     660.94   \n",
      "4          5          Yago Leão   38  Motorola        Edge 50     792.13   \n",
      "\n",
      "  price_local currency  exchange_rate_to_usd  rating  ... verified_purchase  \\\n",
      "0   ₹27996.73      INR                 83.00       2  ...              True   \n",
      "1   R$1754.35      BRL                  5.70       4  ...              True   \n",
      "2   ₹71755.99      INR                 83.00       4  ...              True   \n",
      "3  د.إ2425.65      AED                  3.67       3  ...             False   \n",
      "4   R$4515.14      BRL                  5.70       3  ...              True   \n",
      "\n",
      "  battery_life_rating camera_rating performance_rating design_rating  \\\n",
      "0                   1             1                  3             2   \n",
      "1                   3             2                  4             3   \n",
      "2                   3             5                  3             2   \n",
      "3                   1             3                  2             1   \n",
      "4                   3             3                  2             2   \n",
      "\n",
      "   display_rating  review_length  word_count  helpful_votes      source  \n",
      "0               1             46           7              1      Amazon  \n",
      "1               2             74          12              5    Flipkart  \n",
      "2               4             55          11              8  AliExpress  \n",
      "3               2             66          11              3      Amazon  \n",
      "4               1             73          12              0     BestBuy  \n",
      "\n",
      "[5 rows x 25 columns]\n"
     ]
    }
   ],
   "source": [
    "# Створення копії оригінальних даних\n",
    "df_clean = df.copy()\n",
    "# Перевірка перших кількох рядків копії\n",
    "print(df_clean.head())"
   ]
  },
  {
   "cell_type": "markdown",
   "id": "93fee3d6",
   "metadata": {},
   "source": [
    "4. Перевірка формату дати\n",
    "\n",
    "Перевіримо, чи коректно відформатована дата в колонці review_date. Якщо ця колонка зберігається як рядок, потрібно перетворити її в тип datetime:"
   ]
  },
  {
   "cell_type": "code",
   "execution_count": 97,
   "id": "180d64bb",
   "metadata": {},
   "outputs": [
    {
     "name": "stdout",
     "output_type": "stream",
     "text": [
      "0\n"
     ]
    }
   ],
   "source": [
    "# Перетворення дати на формат datetime в копії df_clean\n",
    "df_clean['review_date'] = pd.to_datetime(df_clean['review_date'], errors='coerce')\n",
    "\n",
    "# Перевірка на наявність некоректних значень після перетворення\n",
    "print(df_clean['review_date'].isnull().sum())  # Кількість NaT (Not a Time) значень"
   ]
  },
  {
   "cell_type": "markdown",
   "id": "e3c86f37",
   "metadata": {},
   "source": [
    "5. Перевірка валютних значень та курсів\n",
    "\n",
    "Колонка price_local є рядковим типом, але це ймовірно ціна в місцевій валюті. Треба перевірити, чи вона містить лише числові значення та чи співвідносяться ціни з валютним курсом в exchange_rate_to_usd:"
   ]
  },
  {
   "cell_type": "code",
   "execution_count": 98,
   "id": "fe828733",
   "metadata": {},
   "outputs": [
    {
     "name": "stdout",
     "output_type": "stream",
     "text": [
      "0     ₹27996.73\n",
      "1     R$1754.35\n",
      "2     ₹71755.99\n",
      "3    د.إ2425.65\n",
      "4     R$4515.14\n",
      "5      R$5408.1\n",
      "6    د.إ1541.88\n",
      "7     A$2208.95\n",
      "Name: price_local, dtype: object\n",
      "  price_local  price_local_clean\n",
      "0   ₹27996.73           27996.73\n",
      "1   R$1754.35            1754.35\n",
      "2   ₹71755.99           71755.99\n",
      "3  د.إ2425.65            2425.65\n",
      "4   R$4515.14            4515.14\n",
      "5    R$5408.1            5408.10\n",
      "6  د.إ1541.88            1541.88\n",
      "7   A$2208.95            2208.95\n"
     ]
    }
   ],
   "source": [
    "print(df_clean['price_local'].head(8))\n",
    "# Видалення всіх символів, окрім цифр і десяткових точок\n",
    "import re\n",
    "\n",
    "# Очищаємо стовпець price_local і додаємо новий стовпець\n",
    "def clean_price(price):\n",
    "    price_str = str(price)\n",
    "    # Спочатку видаляємо ВСІ нецифрові символи (включно з крапками)\n",
    "    # Потім повертаємо останню крапку, якщо вона була десятковим роздільником\n",
    "    \n",
    "    # Знаходимо всі цифри\n",
    "    digits = re.findall(r'\\d', price_str)\n",
    "    \n",
    "    # Знаходимо позицію останньої крапки серед цифр\n",
    "    # Розділяємо рядок на частини за всіма нецифровими символами\n",
    "    parts = re.split(r'[^\\d]', price_str)\n",
    "    parts = [p for p in parts if p]  # Видаляємо порожні рядки\n",
    "    \n",
    "    # Якщо є дві частини чисел, об'єднуємо їх з крапкою\n",
    "    if len(parts) >= 2 and len(parts[-1]) <= 2:\n",
    "        # Остання частина виглядає як центи/копійки\n",
    "        price = parts[-2] + '.' + parts[-1]\n",
    "    elif len(parts) == 1:\n",
    "        price = parts[0]\n",
    "    else:\n",
    "        # Об'єднуємо всі цифри\n",
    "        price = ''.join(parts)\n",
    "    \n",
    "    return price\n",
    "\n",
    "# Додаємо новий стовпець price_local_clean\n",
    "df_clean['price_local_clean'] = df_clean['price_local'].apply(clean_price)\n",
    "\n",
    "# Перетворюємо новий стовпець на числовий формат\n",
    "df_clean['price_local_clean'] = pd.to_numeric(df_clean['price_local_clean'], errors='coerce')\n",
    "\n",
    "# Виведення перших 15 рядків для перевірки\n",
    "print(df_clean[['price_local', 'price_local_clean']].head(8))\n"
   ]
  },
  {
   "cell_type": "code",
   "execution_count": 99,
   "id": "f1580da2",
   "metadata": {},
   "outputs": [
    {
     "name": "stdout",
     "output_type": "stream",
     "text": [
      "0\n"
     ]
    }
   ],
   "source": [
    "# Перевірка на наявність некоректних значень після перетворення\n",
    "print(df_clean['price_local_clean'].isnull().sum())  # Кількість NaN значень"
   ]
  },
  {
   "cell_type": "markdown",
   "id": "57294fe8",
   "metadata": {},
   "source": [
    "6. Перевірка на дублікатів\n",
    "\n",
    "Перевіримо, чи немає дублікатів за колонкою review_id:"
   ]
  },
  {
   "cell_type": "code",
   "execution_count": 100,
   "id": "5cdf7ef7",
   "metadata": {},
   "outputs": [
    {
     "name": "stdout",
     "output_type": "stream",
     "text": [
      "0\n"
     ]
    }
   ],
   "source": [
    "# Перевірка на дублікати\n",
    "print(df_clean.duplicated(subset='review_id').sum())"
   ]
  },
  {
   "cell_type": "markdown",
   "id": "0ae5ab9d",
   "metadata": {},
   "source": [
    "7. Приведення категоріальних змінних до стандарту\n",
    "\n",
    "Перевіримо, чи всі категоріальні дані стандартизовані (наприклад, регістр тексту):"
   ]
  },
  {
   "cell_type": "code",
   "execution_count": null,
   "id": "80bdb996",
   "metadata": {},
   "outputs": [
    {
     "name": "stdout",
     "output_type": "stream",
     "text": [
      "   sentiment    country currency    language\n",
      "0   Negative      India      INR       Hindi\n",
      "1   Positive     Brazil      BRL  Portuguese\n",
      "2   Positive      India      INR       Hindi\n",
      "3   Positive        UAE      AED     English\n",
      "4    Neutral     Brazil      BRL  Portuguese\n",
      "5   Positive     Brazil      BRL  Portuguese\n",
      "6   Positive        UAE      AED     English\n",
      "7   Negative  Australia      AUD     English\n",
      "8   Positive    Germany      EUR      German\n",
      "9   Positive  Australia      AUD     English\n",
      "10   Neutral         UK      GBP     English\n",
      "11   Neutral     Canada      CAD     English\n",
      "12  Positive     Brazil      BRL  Portuguese\n",
      "13  Negative     Canada      CAD     English\n",
      "14   Neutral         UK      GBP     English\n"
     ]
    }
   ],
   "source": [
    "# Перевірка результату для перших 15 рядків\n",
    "print(df_clean[['sentiment', 'country', 'currency', 'language']].head(15))\n",
    "\n",
    "# Приведення категоріальних змінних до стандарту в копії df_clean\n",
    "#df_clean['sentiment'] = df_clean['sentiment'].str.lower()\n",
    "#df_clean['country'] = df_clean['country'].str.lower()\n",
    "#df_clean['currency'] = df_clean['currency'].str.upper()\n",
    "#df_clean['language'] = df_clean['language'].str.lower()"
   ]
  },
  {
   "cell_type": "markdown",
   "id": "10ebba7c",
   "metadata": {},
   "source": [
    "8. Перевірка аномалій в тексті відгуків\n",
    "\n",
    "Якщо необхідно, можна перевірити відгуки на наявність аномальних символів чи надмірної довжини тексту:"
   ]
  },
  {
   "cell_type": "code",
   "execution_count": 102,
   "id": "19d42c92",
   "metadata": {},
   "outputs": [
    {
     "name": "stdout",
     "output_type": "stream",
     "text": [
      "count    50000.000000\n",
      "mean        62.791440\n",
      "std          8.017695\n",
      "min         45.000000\n",
      "25%         56.000000\n",
      "50%         63.000000\n",
      "75%         68.000000\n",
      "max         82.000000\n",
      "Name: review_length, dtype: float64\n",
      "50000\n"
     ]
    }
   ],
   "source": [
    "# Перевірка довжини тексту відгуку в копії df_clean\n",
    "df_clean['review_length'] = df_clean['review_text'].str.len()\n",
    "\n",
    "# Перевірка статистики по довжині відгуків\n",
    "print(df_clean['review_length'].describe())\n",
    "\n",
    "# Перевірка, чи не містять відгуки незвичних або спеціальних символів\n",
    "import re\n",
    "df_clean['has_special_chars'] = df_clean['review_text'].apply(lambda x: bool(re.search(r'[^a-zA-Z0-9\\s]', x)))\n",
    "\n",
    "# Перевірка кількості відгуків з спеціальними символами\n",
    "print(df_clean['has_special_chars'].sum())  # Перевірка на наявність спецсимволів\n"
   ]
  },
  {
   "cell_type": "code",
   "execution_count": 103,
   "id": "8969c63a",
   "metadata": {},
   "outputs": [
    {
     "name": "stdout",
     "output_type": "stream",
     "text": [
      "<class 'pandas.core.frame.DataFrame'>\n",
      "RangeIndex: 50000 entries, 0 to 49999\n",
      "Data columns (total 27 columns):\n",
      " #   Column                Non-Null Count  Dtype         \n",
      "---  ------                --------------  -----         \n",
      " 0   review_id             50000 non-null  int64         \n",
      " 1   customer_name         50000 non-null  object        \n",
      " 2   age                   50000 non-null  int64         \n",
      " 3   brand                 50000 non-null  object        \n",
      " 4   model                 50000 non-null  object        \n",
      " 5   price_usd             50000 non-null  float64       \n",
      " 6   price_local           50000 non-null  object        \n",
      " 7   currency              50000 non-null  object        \n",
      " 8   exchange_rate_to_usd  50000 non-null  float64       \n",
      " 9   rating                50000 non-null  int64         \n",
      " 10  review_text           50000 non-null  object        \n",
      " 11  sentiment             50000 non-null  object        \n",
      " 12  country               50000 non-null  object        \n",
      " 13  language              50000 non-null  object        \n",
      " 14  review_date           50000 non-null  datetime64[ns]\n",
      " 15  verified_purchase     50000 non-null  bool          \n",
      " 16  battery_life_rating   50000 non-null  int64         \n",
      " 17  camera_rating         50000 non-null  int64         \n",
      " 18  performance_rating    50000 non-null  int64         \n",
      " 19  design_rating         50000 non-null  int64         \n",
      " 20  display_rating        50000 non-null  int64         \n",
      " 21  review_length         50000 non-null  int64         \n",
      " 22  word_count            50000 non-null  int64         \n",
      " 23  helpful_votes         50000 non-null  int64         \n",
      " 24  source                50000 non-null  object        \n",
      " 25  price_local_clean     50000 non-null  float64       \n",
      " 26  has_special_chars     50000 non-null  bool          \n",
      "dtypes: bool(2), datetime64[ns](1), float64(3), int64(11), object(10)\n",
      "memory usage: 9.6+ MB\n"
     ]
    }
   ],
   "source": [
    "df_clean.info()"
   ]
  },
  {
   "cell_type": "code",
   "execution_count": 104,
   "id": "8697607b",
   "metadata": {},
   "outputs": [
    {
     "data": {
      "text/html": [
       "<div>\n",
       "<style scoped>\n",
       "    .dataframe tbody tr th:only-of-type {\n",
       "        vertical-align: middle;\n",
       "    }\n",
       "\n",
       "    .dataframe tbody tr th {\n",
       "        vertical-align: top;\n",
       "    }\n",
       "\n",
       "    .dataframe thead th {\n",
       "        text-align: right;\n",
       "    }\n",
       "</style>\n",
       "<table border=\"1\" class=\"dataframe\">\n",
       "  <thead>\n",
       "    <tr style=\"text-align: right;\">\n",
       "      <th></th>\n",
       "      <th>review_id</th>\n",
       "      <th>customer_name</th>\n",
       "      <th>age</th>\n",
       "      <th>brand</th>\n",
       "      <th>model</th>\n",
       "      <th>price_usd</th>\n",
       "      <th>price_local</th>\n",
       "      <th>currency</th>\n",
       "      <th>exchange_rate_to_usd</th>\n",
       "      <th>rating</th>\n",
       "      <th>...</th>\n",
       "      <th>verified_purchase</th>\n",
       "      <th>battery_life_rating</th>\n",
       "      <th>camera_rating</th>\n",
       "      <th>performance_rating</th>\n",
       "      <th>design_rating</th>\n",
       "      <th>display_rating</th>\n",
       "      <th>review_length</th>\n",
       "      <th>word_count</th>\n",
       "      <th>helpful_votes</th>\n",
       "      <th>source</th>\n",
       "    </tr>\n",
       "  </thead>\n",
       "  <tbody>\n",
       "    <tr>\n",
       "      <th>0</th>\n",
       "      <td>1</td>\n",
       "      <td>Aryan Maharaj</td>\n",
       "      <td>45</td>\n",
       "      <td>Realme</td>\n",
       "      <td>Realme 12 Pro</td>\n",
       "      <td>337.31</td>\n",
       "      <td>₹27996.73</td>\n",
       "      <td>INR</td>\n",
       "      <td>83.00</td>\n",
       "      <td>2</td>\n",
       "      <td>...</td>\n",
       "      <td>True</td>\n",
       "      <td>1</td>\n",
       "      <td>1</td>\n",
       "      <td>3</td>\n",
       "      <td>2</td>\n",
       "      <td>1</td>\n",
       "      <td>46</td>\n",
       "      <td>7</td>\n",
       "      <td>1</td>\n",
       "      <td>Amazon</td>\n",
       "    </tr>\n",
       "    <tr>\n",
       "      <th>1</th>\n",
       "      <td>2</td>\n",
       "      <td>Davi Miguel Sousa</td>\n",
       "      <td>18</td>\n",
       "      <td>Realme</td>\n",
       "      <td>Realme 12 Pro</td>\n",
       "      <td>307.78</td>\n",
       "      <td>R$1754.35</td>\n",
       "      <td>BRL</td>\n",
       "      <td>5.70</td>\n",
       "      <td>4</td>\n",
       "      <td>...</td>\n",
       "      <td>True</td>\n",
       "      <td>3</td>\n",
       "      <td>2</td>\n",
       "      <td>4</td>\n",
       "      <td>3</td>\n",
       "      <td>2</td>\n",
       "      <td>74</td>\n",
       "      <td>12</td>\n",
       "      <td>5</td>\n",
       "      <td>Flipkart</td>\n",
       "    </tr>\n",
       "    <tr>\n",
       "      <th>2</th>\n",
       "      <td>3</td>\n",
       "      <td>Pahal Balay</td>\n",
       "      <td>27</td>\n",
       "      <td>Google</td>\n",
       "      <td>Pixel 6</td>\n",
       "      <td>864.53</td>\n",
       "      <td>₹71755.99</td>\n",
       "      <td>INR</td>\n",
       "      <td>83.00</td>\n",
       "      <td>4</td>\n",
       "      <td>...</td>\n",
       "      <td>True</td>\n",
       "      <td>3</td>\n",
       "      <td>5</td>\n",
       "      <td>3</td>\n",
       "      <td>2</td>\n",
       "      <td>4</td>\n",
       "      <td>55</td>\n",
       "      <td>11</td>\n",
       "      <td>8</td>\n",
       "      <td>AliExpress</td>\n",
       "    </tr>\n",
       "    <tr>\n",
       "      <th>3</th>\n",
       "      <td>4</td>\n",
       "      <td>David Guzman</td>\n",
       "      <td>19</td>\n",
       "      <td>Xiaomi</td>\n",
       "      <td>Redmi Note 13</td>\n",
       "      <td>660.94</td>\n",
       "      <td>د.إ2425.65</td>\n",
       "      <td>AED</td>\n",
       "      <td>3.67</td>\n",
       "      <td>3</td>\n",
       "      <td>...</td>\n",
       "      <td>False</td>\n",
       "      <td>1</td>\n",
       "      <td>3</td>\n",
       "      <td>2</td>\n",
       "      <td>1</td>\n",
       "      <td>2</td>\n",
       "      <td>66</td>\n",
       "      <td>11</td>\n",
       "      <td>3</td>\n",
       "      <td>Amazon</td>\n",
       "    </tr>\n",
       "    <tr>\n",
       "      <th>4</th>\n",
       "      <td>5</td>\n",
       "      <td>Yago Leão</td>\n",
       "      <td>38</td>\n",
       "      <td>Motorola</td>\n",
       "      <td>Edge 50</td>\n",
       "      <td>792.13</td>\n",
       "      <td>R$4515.14</td>\n",
       "      <td>BRL</td>\n",
       "      <td>5.70</td>\n",
       "      <td>3</td>\n",
       "      <td>...</td>\n",
       "      <td>True</td>\n",
       "      <td>3</td>\n",
       "      <td>3</td>\n",
       "      <td>2</td>\n",
       "      <td>2</td>\n",
       "      <td>1</td>\n",
       "      <td>73</td>\n",
       "      <td>12</td>\n",
       "      <td>0</td>\n",
       "      <td>BestBuy</td>\n",
       "    </tr>\n",
       "  </tbody>\n",
       "</table>\n",
       "<p>5 rows × 25 columns</p>\n",
       "</div>"
      ],
      "text/plain": [
       "   review_id      customer_name  age     brand          model  price_usd  \\\n",
       "0          1      Aryan Maharaj   45    Realme  Realme 12 Pro     337.31   \n",
       "1          2  Davi Miguel Sousa   18    Realme  Realme 12 Pro     307.78   \n",
       "2          3        Pahal Balay   27    Google        Pixel 6     864.53   \n",
       "3          4       David Guzman   19    Xiaomi  Redmi Note 13     660.94   \n",
       "4          5          Yago Leão   38  Motorola        Edge 50     792.13   \n",
       "\n",
       "  price_local currency  exchange_rate_to_usd  rating  ... verified_purchase  \\\n",
       "0   ₹27996.73      INR                 83.00       2  ...              True   \n",
       "1   R$1754.35      BRL                  5.70       4  ...              True   \n",
       "2   ₹71755.99      INR                 83.00       4  ...              True   \n",
       "3  د.إ2425.65      AED                  3.67       3  ...             False   \n",
       "4   R$4515.14      BRL                  5.70       3  ...              True   \n",
       "\n",
       "  battery_life_rating camera_rating performance_rating design_rating  \\\n",
       "0                   1             1                  3             2   \n",
       "1                   3             2                  4             3   \n",
       "2                   3             5                  3             2   \n",
       "3                   1             3                  2             1   \n",
       "4                   3             3                  2             2   \n",
       "\n",
       "   display_rating  review_length  word_count  helpful_votes      source  \n",
       "0               1             46           7              1      Amazon  \n",
       "1               2             74          12              5    Flipkart  \n",
       "2               4             55          11              8  AliExpress  \n",
       "3               2             66          11              3      Amazon  \n",
       "4               1             73          12              0     BestBuy  \n",
       "\n",
       "[5 rows x 25 columns]"
      ]
     },
     "execution_count": 104,
     "metadata": {},
     "output_type": "execute_result"
    }
   ],
   "source": [
    "df.head()"
   ]
  },
  {
   "cell_type": "code",
   "execution_count": 105,
   "id": "dcbf3486",
   "metadata": {},
   "outputs": [
    {
     "name": "stdout",
     "output_type": "stream",
     "text": [
      "          price_usd  price_local_clean\n",
      "count  50000.000000       50000.000000\n",
      "mean     689.693713        8304.527646\n",
      "std      310.307331       20427.986757\n",
      "min      180.020000         141.090000\n",
      "25%      450.792500         593.447500\n",
      "50%      637.040000        1060.215000\n",
      "75%      900.975000        2921.140000\n",
      "max     1499.890000      124397.080000\n",
      "count    50000.000000\n",
      "mean        30.075220\n",
      "std          8.931307\n",
      "min         18.000000\n",
      "25%         23.000000\n",
      "50%         29.000000\n",
      "75%         36.000000\n",
      "max         65.000000\n",
      "Name: age, dtype: float64\n",
      "             rating  battery_life_rating  camera_rating  performance_rating  \\\n",
      "count  50000.000000          50000.00000   50000.000000        50000.000000   \n",
      "mean       3.123120              2.71800       2.717640            2.719620   \n",
      "std        1.248612              1.34827       1.345001            1.349208   \n",
      "min        1.000000              1.00000       1.000000            1.000000   \n",
      "25%        2.000000              1.00000       1.000000            1.000000   \n",
      "50%        3.000000              3.00000       3.000000            3.000000   \n",
      "75%        4.000000              4.00000       4.000000            4.000000   \n",
      "max        5.000000              5.00000       5.000000            5.000000   \n",
      "\n",
      "       design_rating  \n",
      "count   50000.000000  \n",
      "mean        2.713960  \n",
      "std         1.343346  \n",
      "min         1.000000  \n",
      "25%         1.000000  \n",
      "50%         3.000000  \n",
      "75%         4.000000  \n",
      "max         5.000000  \n"
     ]
    }
   ],
   "source": [
    "# Перевірка на від'ємні або нереалістичні значення\n",
    "print(df_clean[['price_usd', 'price_local_clean']].describe())\n",
    "print(df_clean['age'].describe())\n",
    "print(df_clean[['rating', 'battery_life_rating', 'camera_rating', 'performance_rating', 'design_rating']].describe())\n"
   ]
  },
  {
   "cell_type": "code",
   "execution_count": 106,
   "id": "8f414897",
   "metadata": {},
   "outputs": [
    {
     "name": "stdout",
     "output_type": "stream",
     "text": [
      "Унікальні значення в стовпці 'sentiment' (тональність):\n",
      "['Negative' 'Positive' 'Neutral']\n",
      "\n",
      "Унікальні значення в стовпці 'country' (країна):\n",
      "['India' 'Brazil' 'UAE' 'Australia' 'Germany' 'UK' 'Canada' 'USA']\n",
      "\n",
      "Унікальні значення в стовпці 'currency' (валюта):\n",
      "['INR' 'BRL' 'AED' 'AUD' 'EUR' 'GBP' 'CAD' 'USD']\n",
      "\n",
      "Унікальні значення в стовпці 'language' (мова):\n",
      "['Hindi' 'Portuguese' 'English' 'German']\n",
      "\n",
      "Кількість дублікатів у стовпці 'review_id':\n",
      "0\n",
      "\n",
      "Кількість некоректних дат у стовпці 'review_date' (NaT):\n",
      "0\n",
      "\n",
      "Статистика по довжині текстів відгуків ('review_length'):\n",
      "count    50000.000000\n",
      "mean        62.791440\n",
      "std          8.017695\n",
      "min         45.000000\n",
      "25%         56.000000\n",
      "50%         63.000000\n",
      "75%         68.000000\n",
      "max         82.000000\n",
      "Name: review_length, dtype: float64\n",
      "\n",
      "Кількість відгуків по країні:\n",
      "country\n",
      "Australia    6219\n",
      "Brazil       6419\n",
      "Canada       6170\n",
      "Germany      6162\n",
      "India        6124\n",
      "UAE          6261\n",
      "UK           6210\n",
      "USA          6435\n",
      "dtype: int64\n",
      "\n",
      "Кількість відгуків по бренду:\n",
      "brand\n",
      "Apple       7144\n",
      "Google      7234\n",
      "Motorola    7061\n",
      "OnePlus     7136\n",
      "Realme      7132\n",
      "Samsung     7052\n",
      "Xiaomi      7241\n",
      "dtype: int64\n",
      "\n",
      "Кількість пропущених значень в кожному стовпці:\n",
      "review_id               0\n",
      "customer_name           0\n",
      "age                     0\n",
      "brand                   0\n",
      "model                   0\n",
      "price_usd               0\n",
      "price_local             0\n",
      "currency                0\n",
      "exchange_rate_to_usd    0\n",
      "rating                  0\n",
      "review_text             0\n",
      "sentiment               0\n",
      "country                 0\n",
      "language                0\n",
      "review_date             0\n",
      "verified_purchase       0\n",
      "battery_life_rating     0\n",
      "camera_rating           0\n",
      "performance_rating      0\n",
      "design_rating           0\n",
      "display_rating          0\n",
      "review_length           0\n",
      "word_count              0\n",
      "helpful_votes           0\n",
      "source                  0\n",
      "price_local_clean       0\n",
      "has_special_chars       0\n",
      "dtype: int64\n"
     ]
    }
   ],
   "source": [
    "# Перевірка унікальних значень у стовпці sentiment\n",
    "print(\"Унікальні значення в стовпці 'sentiment' (тональність):\")\n",
    "print(df_clean['sentiment'].unique())\n",
    "# Перевірка унікальних значень у стовпці country\n",
    "print(\"\\nУнікальні значення в стовпці 'country' (країна):\")\n",
    "print(df_clean['country'].unique())\n",
    "# Перевірка унікальних значень у стовпці currency\n",
    "print(\"\\nУнікальні значення в стовпці 'currency' (валюта):\")\n",
    "print(df_clean['currency'].unique())\n",
    "# Перевірка унікальних значень у стовпці language\n",
    "print(\"\\nУнікальні значення в стовпці 'language' (мова):\")\n",
    "print(df_clean['language'].unique())\n",
    "# Перевірка наявності дублікатів у стовпці review_id\n",
    "print(\"\\nКількість дублікатів у стовпці 'review_id':\")\n",
    "print(df_clean['review_id'].duplicated().sum())\n",
    "# Перевірка на наявність некоректних дат в стовпці review_date\n",
    "print(\"\\nКількість некоректних дат у стовпці 'review_date' (NaT):\")\n",
    "print(df_clean['review_date'].isnull().sum())\n",
    "# Статистика по довжині відгуків (review_length)\n",
    "print(\"\\nСтатистика по довжині текстів відгуків ('review_length'):\")\n",
    "print(df_clean['review_length'].describe())\n",
    "# Кількість відгуків по країні\n",
    "print(\"\\nКількість відгуків по країні:\")\n",
    "print(df_clean.groupby('country').size())\n",
    "# Кількість відгуків по бренду\n",
    "print(\"\\nКількість відгуків по бренду:\")\n",
    "print(df_clean.groupby('brand').size())\n",
    "# Перевірка на пропущені значення в усіх стовпцях\n",
    "print(\"\\nКількість пропущених значень в кожному стовпці:\")\n",
    "print(df_clean.isnull().sum())"
   ]
  },
  {
   "cell_type": "markdown",
   "id": "93185130",
   "metadata": {},
   "source": [
    "Експортуємо очищений датасет в CSV файл"
   ]
  },
  {
   "cell_type": "code",
   "execution_count": 107,
   "id": "5c9318de",
   "metadata": {},
   "outputs": [
    {
     "name": "stdout",
     "output_type": "stream",
     "text": [
      "Датасет успішно збережено за шляхом: d:\\VLAD\\WORK\\Projects\\Portfolio\\DA_Portfolio\\DA\\2025\\global_mobile_reviews_project\\data\\processed\\cleaned_mobile_reviews.csv\n"
     ]
    }
   ],
   "source": [
    "# Вказуємо шлях для збереження файлу\n",
    "\n",
    "file_path = r\"d:\\VLAD\\WORK\\Projects\\Portfolio\\DA_Portfolio\\DA\\2025\\global_mobile_reviews_project\\data\\processed\\cleaned_mobile_reviews.csv\"\n",
    "\n",
    "# Збереження очищеного датасету в CSV файл\n",
    "df_clean.to_csv(file_path, index=False)\n",
    "\n",
    "print(f\"Датасет успішно збережено за шляхом: {file_path}\")"
   ]
  },
  {
   "cell_type": "markdown",
   "id": "be2fc452",
   "metadata": {},
   "source": [
    "Збереження SQLite бази даних за певним шляхом"
   ]
  },
  {
   "cell_type": "code",
   "execution_count": 109,
   "id": "4417773b",
   "metadata": {},
   "outputs": [
    {
     "name": "stdout",
     "output_type": "stream",
     "text": [
      "База даних успішно збережена за шляхом: d:\\VLAD\\WORK\\Projects\\Portfolio\\DA_Portfolio\\DA\\2025\\global_mobile_reviews_project\\data\\processed\\mobile_reviews.db\n",
      "Датасет успішно збережено в базу даних 'mobile_reviews.db'.\n"
     ]
    }
   ],
   "source": [
    "import sqlite3\n",
    "\n",
    "# Вказуємо шлях для збереження бази даних\n",
    "db_path = r\"d:\\VLAD\\WORK\\Projects\\Portfolio\\DA_Portfolio\\DA\\2025\\global_mobile_reviews_project\\data\\processed\\mobile_reviews.db\" \n",
    "\n",
    "# Підключення до SQLite бази даних (якщо файл не існує, він буде створений)\n",
    "conn = sqlite3.connect(db_path)\n",
    "print(f\"База даних успішно збережена за шляхом: {db_path}\")\n",
    "\n",
    "# Збереження датасету в базу даних\n",
    "df_clean.to_sql('reviews', conn, if_exists='replace', index=False)\n",
    "print(\"Датасет успішно збережено в базу даних 'mobile_reviews.db'.\")\n"
   ]
  }
 ],
 "metadata": {
  "kernelspec": {
   "display_name": "base",
   "language": "python",
   "name": "python3"
  },
  "language_info": {
   "codemirror_mode": {
    "name": "ipython",
    "version": 3
   },
   "file_extension": ".py",
   "mimetype": "text/x-python",
   "name": "python",
   "nbconvert_exporter": "python",
   "pygments_lexer": "ipython3",
   "version": "3.13.5"
  }
 },
 "nbformat": 4,
 "nbformat_minor": 5
}
